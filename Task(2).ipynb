{
 "cells": [
  {
   "cell_type": "markdown",
   "id": "b9adf302-6d90-4637-9c92-45e8f2b422a8",
   "metadata": {},
   "source": [
    "Q2: solve the below_given questions using atleast one following:\n",
    "    1.lambda function\n",
    "    2.filter function\n",
    "    3.map function\n",
    "    4.list comprehention"
   ]
  },
  {
   "cell_type": "markdown",
   "id": "182a5a34-f478-4ea7-93d8-a302e47408cc",
   "metadata": {},
   "source": [
    "find the square of numbers from 1 to 10"
   ]
  },
  {
   "cell_type": "code",
   "execution_count": 2,
   "id": "c1540f5a-42f6-4733-a7f4-2b1aafe5ff7f",
   "metadata": {},
   "outputs": [
    {
     "data": {
      "text/plain": [
       "[1, 4, 9, 16, 25, 36, 49, 64, 81, 100]"
      ]
     },
     "execution_count": 2,
     "metadata": {},
     "output_type": "execute_result"
    }
   ],
   "source": [
    "list(map(lambda x:x**2,range(1,11)))"
   ]
  },
  {
   "cell_type": "markdown",
   "id": "66c8d9b5-4280-4522-8e39-1b08d0658bcf",
   "metadata": {},
   "source": [
    "find the cube root of numbers from 1 to 10"
   ]
  },
  {
   "cell_type": "code",
   "execution_count": 7,
   "id": "9b8f8ddf-a4ce-4975-af3d-57fb72f78581",
   "metadata": {},
   "outputs": [
    {
     "data": {
      "text/plain": [
       "[1.0,\n",
       " 1.2599210498948732,\n",
       " 1.4422495703074083,\n",
       " 1.5874010519681994,\n",
       " 1.7099759466766968,\n",
       " 1.8171205928321397,\n",
       " 1.912931182772389,\n",
       " 2.0,\n",
       " 2.080083823051904,\n",
       " 2.154434690031884]"
      ]
     },
     "execution_count": 7,
     "metadata": {},
     "output_type": "execute_result"
    }
   ],
   "source": [
    "list(map(lambda x: x**(1/3),range(1,11)))"
   ]
  },
  {
   "cell_type": "markdown",
   "id": "4c63ff0a-50be-4cdc-9324-10e2b2f36908",
   "metadata": {},
   "source": [
    "find odd numbers from the given list"
   ]
  },
  {
   "cell_type": "code",
   "execution_count": 8,
   "id": "6d969d87-4654-414e-9d11-6f1e561c736c",
   "metadata": {},
   "outputs": [],
   "source": [
    "l=[1,2,3,4,5,6,7,8,9,10]"
   ]
  },
  {
   "cell_type": "code",
   "execution_count": 9,
   "id": "5a1da8ac-2e72-45d0-ac42-7c30cfb598a2",
   "metadata": {},
   "outputs": [
    {
     "data": {
      "text/plain": [
       "[1, 3, 5, 7, 9]"
      ]
     },
     "execution_count": 9,
     "metadata": {},
     "output_type": "execute_result"
    }
   ],
   "source": [
    "list(filter(lambda x:x%2 !=0,l))"
   ]
  },
  {
   "cell_type": "markdown",
   "id": "3bc7495c-1fed-4275-838e-780c832ebdab",
   "metadata": {},
   "source": [
    "sort a list of integers into positive and negative lists"
   ]
  },
  {
   "cell_type": "code",
   "execution_count": 10,
   "id": "e98b3134-a2f8-4353-9e7c-ce8f60d403cc",
   "metadata": {},
   "outputs": [],
   "source": [
    "l1=[1,2,3,4,5,6,-1,-2,-3,-4,-5,0]"
   ]
  },
  {
   "cell_type": "code",
   "execution_count": 13,
   "id": "4e7a9176-7a22-43ed-bc28-2429261fce85",
   "metadata": {},
   "outputs": [
    {
     "data": {
      "text/plain": [
       "[1, 2, 3, 4, 5, 6]"
      ]
     },
     "execution_count": 13,
     "metadata": {},
     "output_type": "execute_result"
    }
   ],
   "source": [
    "list(filter(lambda x:x>0,l1))"
   ]
  },
  {
   "cell_type": "code",
   "execution_count": 15,
   "id": "85a90527-3739-45e7-969f-c428230280d8",
   "metadata": {},
   "outputs": [
    {
     "data": {
      "text/plain": [
       "[-1, -2, -3, -4, -5, 0]"
      ]
     },
     "execution_count": 15,
     "metadata": {},
     "output_type": "execute_result"
    }
   ],
   "source": [
    "list(filter(lambda x:x<=0,l1))"
   ]
  },
  {
   "cell_type": "markdown",
   "id": "4365d8a8-07fd-4fd2-b3ca-d05e1974d5b3",
   "metadata": {},
   "source": [
    "sort a list of tuples having fruit names and their quantity."
   ]
  },
  {
   "cell_type": "code",
   "execution_count": 17,
   "id": "8ec39957-9ce6-4d24-9aaf-59cce14fb0ca",
   "metadata": {},
   "outputs": [],
   "source": [
    "l=[('mango',99),('orange',80),('grapes',1000)]"
   ]
  },
  {
   "cell_type": "code",
   "execution_count": null,
   "id": "2f82f7ee-50df-4c81-84c3-cd9ddb292408",
   "metadata": {},
   "outputs": [],
   "source": []
  }
 ],
 "metadata": {
  "kernelspec": {
   "display_name": "Python 3 (ipykernel)",
   "language": "python",
   "name": "python3"
  },
  "language_info": {
   "codemirror_mode": {
    "name": "ipython",
    "version": 3
   },
   "file_extension": ".py",
   "mimetype": "text/x-python",
   "name": "python",
   "nbconvert_exporter": "python",
   "pygments_lexer": "ipython3",
   "version": "3.10.8"
  }
 },
 "nbformat": 4,
 "nbformat_minor": 5
}
